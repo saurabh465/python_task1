{
 "cells": [
  {
   "cell_type": "code",
   "execution_count": 1,
   "id": "dd5d70b3-7596-4b5b-a1de-7347d0531b27",
   "metadata": {},
   "outputs": [],
   "source": [
    "#question1\n",
    "def calculate_product(lst):\n",
    "    flat_list = []\n",
    "\n",
    "    def flatten(lst):\n",
    "        for item in lst:\n",
    "            if isinstance(item, list):\n",
    "                flatten(item)\n",
    "            elif isinstance(item, (int, float)):\n",
    "                flat_list.append(item)\n",
    "\n",
    "    flatten(lst)\n",
    "\n",
    "    product = 1\n",
    "    for num in flat_list:\n",
    "        product *= num\n",
    "\n",
    "    return product"
   ]
  },
  {
   "cell_type": "code",
   "execution_count": 7,
   "id": "16e4fb39-713d-497f-a1d3-53d9fa8d6944",
   "metadata": {},
   "outputs": [],
   "source": [
    "#question 2\n",
    "def encrypt_message(message):\n",
    "    encrypted_message = \"\"\n",
    "    for i in message:\n",
    "        if i.isalpha():       #the program checks if it is an alphabet character using the isalpha()\n",
    "            if i.isupper():    #isupper() method is a built-in string method in Python that checks whether all the characters in a given string are uppercase letters.\n",
    "                encrypted_char = chr(155 - ord(i))\n",
    "            else:\n",
    "                encrypted_char = chr(219 - ord(i))\n",
    "        elif i == \" \":\n",
    "            encrypted_char = \"$\"\n",
    "        else:\n",
    "            encrypted_char = i\n",
    "\n",
    "        encrypted_message += encrypted_char\n",
    "\n",
    "    return encrypted_message"
   ]
  },
  {
   "cell_type": "code",
   "execution_count": 8,
   "id": "642e9570-9ee6-4d23-a208-3dde737ad3aa",
   "metadata": {},
   "outputs": [
    {
     "name": "stdout",
     "output_type": "stream",
     "text": [
      "R$dzmg$gl$yvxlnv$z$Wzgz$Hxrvmgrhg$\n"
     ]
    }
   ],
   "source": [
    "message = \"I want to become a Data Scientist \"\n",
    "encrypted = encrypt_message(message)\n",
    "print(encrypted) "
   ]
  },
  {
   "cell_type": "code",
   "execution_count": null,
   "id": "f2546a00-303b-484d-ab17-5838aaa54f25",
   "metadata": {},
   "outputs": [],
   "source": []
  }
 ],
 "metadata": {
  "kernelspec": {
   "display_name": "Python 3 (ipykernel)",
   "language": "python",
   "name": "python3"
  },
  "language_info": {
   "codemirror_mode": {
    "name": "ipython",
    "version": 3
   },
   "file_extension": ".py",
   "mimetype": "text/x-python",
   "name": "python",
   "nbconvert_exporter": "python",
   "pygments_lexer": "ipython3",
   "version": "3.10.8"
  }
 },
 "nbformat": 4,
 "nbformat_minor": 5
}
